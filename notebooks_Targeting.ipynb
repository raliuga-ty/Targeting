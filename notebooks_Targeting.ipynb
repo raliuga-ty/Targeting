{
  "metadata": {
    "language_info": {
      "codemirror_mode": {
        "name": "python",
        "version": 3
      },
      "file_extension": ".py",
      "mimetype": "text/x-python",
      "name": "python",
      "nbconvert_exporter": "python",
      "pygments_lexer": "ipython3",
      "version": "3.8"
    },
    "kernelspec": {
      "name": "python",
      "display_name": "Python (Pyodide)",
      "language": "python"
    }
  },
  "nbformat_minor": 4,
  "nbformat": 4,
  "cells": [
    {
      "cell_type": "markdown",
      "source": "I plan on targeting all segments except for segments 3,12, and 27 based on their E[p|x,m] being under the threshold of .002. After multiplying our m_s values by 100 to account for the full size of the segment given that the m_s column makes up only 1% of the segment it belongs to, the total amount of mailers to be sent out is 1,270,800. It will cost $254,160 to run the campaign.",
      "metadata": {}
    },
    {
      "cell_type": "code",
      "source": "# Import block\nimport os\nimport pandas as pd\nimport matplotlib.pyplot as plt\nimport numpy as np\nimport math\nfrom scipy.optimize import minimize\nfrom scipy.optimize import Bounds\nfrom scipy.stats import binom\nfrom math import comb\nimport scipy.special as sc",
      "metadata": {
        "trusted": true
      },
      "execution_count": null,
      "outputs": []
    },
    {
      "cell_type": "code",
      "source": "def nbetabinomLL(par, data):\n    a = par[0]\n    b = par[1]\n    x = list(data['x_s'])\n    m = list(data['m_s'])\n    logbeta_ab = (math.lgamma(a) + math.lgamma(b) - math.lgamma(a + b))\n    ll_sum = 0\n    for idx in range(len(df)):\n        ll_sum = ll_sum + (math.lgamma(a + x[idx]) + math.lgamma(b + m[idx] - x[idx]) - math.lgamma(a + b + m[idx]))\\\n        + math.log(math.comb(m[idx], x[idx])) - logbeta_ab    \n    return -ll_sum\n\ndef optimizeBB(data):\n    bnds = ((0.0001,None),(0.0001,None)) \n    res = minimize(nbetabinomLL, (1,1), (data), method=\"nelder-mead\",\n                   options={'xatol': 1e-08, 'disp': True},bounds=bnds)\n    print('MLE for a,b is', res.x, 'and LL is',-nbetabinomLL(res.x,data))\n    return res\n\ndef betabinomial(row):\n    ldenom = math.exp(math.lgamma(a)+math.lgamma(b)-math.lgamma(a+b))\n    return comb(row[\"m_s\"],row[\"x_s\"]) * math.exp(sc.gammaln([a + row[\"x_s\"]]) + \n                                                  sc.gammaln([b + row[\"m_s\"] - \n                                                              row[\"x_s\"]]) - \n                                                  sc.gammaln([a + b + row[\"m_s\"]]))/ldenom\n\ndef expected(row):\n    return (a + row['x_s'])/(a + b + row['m_s'])\n\ndef full_seg(row):\n    return row['m_s'] * 100",
      "metadata": {
        "trusted": true
      },
      "execution_count": null,
      "outputs": []
    },
    {
      "cell_type": "code",
      "source": "#First read in the dataset and assign its contents to a pandas dataframe\ndf = pd.read_csv('Targeting.csv')\n\n#Takes x over m, outputs it to Test RR\ndf['Test RR'] = df['x_s']/df['m_s']\n\n#Variables for our specific problem\nmailing_cost = 2000/10000\nmargin = 100\nthreshold = mailing_cost/margin\ntotal_mailers = sum(df['m_s'])\ntotal_cost = mailing_cost * total_mailers\ntotal_sales = sum(df['x_s'])\nprofit = total_sales * margin\nprobability = .1\n\n#Initializing a and b as 1 so that they can be global variables for our program\n#and I'll update them after optimization\na = 1\nb = 1\nb_ab = math.exp(sc.gammaln([a]) + sc.gammaln([b]) - sc.gammaln([a+b]))",
      "metadata": {
        "trusted": true
      },
      "execution_count": null,
      "outputs": []
    },
    {
      "cell_type": "code",
      "source": "print('Threshold: ' , threshold)\nprint('Probability: ', probability)\nprint('Mailing Cost: ', mailing_cost)\nprint('Total Cost:', total_cost)\nprint('Total Sales: ', total_sales)\nprint('Profit: ', profit)",
      "metadata": {
        "trusted": true
      },
      "execution_count": null,
      "outputs": []
    },
    {
      "cell_type": "code",
      "source": "df['Initial Rollout'] = df['Test RR'] > threshold",
      "metadata": {
        "trusted": true
      },
      "execution_count": null,
      "outputs": []
    },
    {
      "cell_type": "code",
      "source": "res = optimizeBB(df)",
      "metadata": {
        "trusted": true
      },
      "execution_count": null,
      "outputs": []
    },
    {
      "cell_type": "code",
      "source": "#Updating a and b before applying the betabinomial function\na = res.x[0]\nb = res.x[1]\na, b",
      "metadata": {
        "trusted": true
      },
      "execution_count": null,
      "outputs": []
    },
    {
      "cell_type": "code",
      "source": "#Creating column containing the probability of observing the \n#Test RR in the rest of the segment\ndf[\"P(X=x_s|m_s)\"] = df.apply(betabinomial, axis=1)",
      "metadata": {
        "trusted": true
      },
      "execution_count": null,
      "outputs": []
    },
    {
      "cell_type": "code",
      "source": "#Log Likelihood column\ndf['LL'] = np.log(df['P(X=x_s|m_s)'])",
      "metadata": {
        "trusted": true
      },
      "execution_count": null,
      "outputs": []
    },
    {
      "cell_type": "code",
      "source": "#Maximized log likelihood\ntotal_LL = sum(df['LL'])\ntotal_LL",
      "metadata": {
        "trusted": true
      },
      "execution_count": null,
      "outputs": []
    },
    {
      "cell_type": "code",
      "source": "#Average response for the whole dataset. Does not\n#account for heterogeneity\navg_r_prob = a/(a+b)\navg_r_prob",
      "metadata": {
        "trusted": true
      },
      "execution_count": null,
      "outputs": []
    },
    {
      "cell_type": "code",
      "source": "#This will end up being our denominator value for the next column\nb_ab = math.exp(sc.gammaln([a]) + sc.gammaln([b]) - sc.gammaln([a+b]))\nb_ab",
      "metadata": {
        "trusted": true
      },
      "execution_count": null,
      "outputs": []
    },
    {
      "cell_type": "code",
      "source": "#Expected probability, includes heterogeneity\ndf['E[p|x,m]'] = df.apply(expected, axis = 1)",
      "metadata": {
        "trusted": true
      },
      "execution_count": null,
      "outputs": []
    },
    {
      "cell_type": "code",
      "source": "#Column of which segments we'll roll out to given\n#our best effort at predicting segment behavior\ndf['New Rollout'] = df['E[p|x,m]'] > threshold",
      "metadata": {
        "trusted": true
      },
      "execution_count": null,
      "outputs": []
    },
    {
      "cell_type": "code",
      "source": "#New dataframe so as not to mutate the df dataframe\n#containing only the segments that we plan to roll\n#out to\nrslt_df = df.loc[(df['New Rollout'] == True)]",
      "metadata": {
        "trusted": true
      },
      "execution_count": null,
      "outputs": []
    },
    {
      "cell_type": "code",
      "source": "#We only had 1% of the segment's population, so to \n#calculate how many mailers we'll be sending we need\n#to multiply that value times 100\nrslt_df['mailers'] = df.apply(full_seg, axis = 1)",
      "metadata": {
        "trusted": true
      },
      "execution_count": null,
      "outputs": []
    },
    {
      "cell_type": "code",
      "source": "rslt_df",
      "metadata": {
        "trusted": true
      },
      "execution_count": null,
      "outputs": []
    },
    {
      "cell_type": "code",
      "source": "total_mailers = sum(rslt_df['mailers'])\ntotal_mailers",
      "metadata": {
        "trusted": true
      },
      "execution_count": null,
      "outputs": []
    },
    {
      "cell_type": "code",
      "source": "total_cost = total_mailers * mailing_cost\ntotal_cost",
      "metadata": {
        "trusted": true
      },
      "execution_count": null,
      "outputs": []
    }
  ]
}