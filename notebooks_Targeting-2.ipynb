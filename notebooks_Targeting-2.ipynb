{
  "metadata": {
    "language_info": {
      "codemirror_mode": {
        "name": "python",
        "version": 3
      },
      "file_extension": ".py",
      "mimetype": "text/x-python",
      "name": "python",
      "nbconvert_exporter": "python",
      "pygments_lexer": "ipython3",
      "version": "3.8"
    },
    "kernelspec": {
      "name": "python",
      "display_name": "Python (Pyodide)",
      "language": "python"
    }
  },
  "nbformat_minor": 4,
  "nbformat": 4,
  "cells": [
    {
      "cell_type": "markdown",
      "source": "I plan on targeting all segments except for segments 3,12, and 27 based on their E[p|x,m] being under the threshold of .002. After multiplying our m_s values by 100 to account for the full size of the segment given that the m_s column makes up only 1% of the segment it belongs to, the total amount of mailers to be sent out is 1,270,800. It will cost $254,160 to run the campaign.",
      "metadata": {}
    },
    {
      "cell_type": "code",
      "source": "# Import block\nimport os\nimport pandas as pd\nimport matplotlib.pyplot as plt\nimport numpy as np\nimport math\nfrom scipy.optimize import minimize\nfrom scipy.optimize import Bounds\nfrom scipy.stats import binom\nfrom math import comb\nimport scipy.special as sc",
      "metadata": {
        "trusted": true
      },
      "execution_count": 1,
      "outputs": []
    },
    {
      "cell_type": "code",
      "source": "def nbetabinomLL(par, data):\n    a = par[0]\n    b = par[1]\n    x = list(data['x_s'])\n    m = list(data['m_s'])\n    logbeta_ab = (math.lgamma(a) + math.lgamma(b) - math.lgamma(a + b))\n    ll_sum = 0\n    for idx in range(len(df)):\n        ll_sum = ll_sum + (math.lgamma(a + x[idx]) + math.lgamma(b + m[idx] - x[idx]) - math.lgamma(a + b + m[idx]))\\\n        + math.log(math.comb(m[idx], x[idx])) - logbeta_ab    \n    return -ll_sum\n\ndef optimizeBB(data):\n    bnds = ((0.0001,None),(0.0001,None)) \n    res = minimize(nbetabinomLL, (1,1), (data), method=\"nelder-mead\",\n                   options={'xatol': 1e-08, 'disp': True},bounds=bnds)\n    print('MLE for a,b is', res.x, 'and LL is',-nbetabinomLL(res.x,data))\n    return res\n\ndef betabinomial(row):\n    ldenom = math.exp(math.lgamma(a)+math.lgamma(b)-math.lgamma(a+b))\n    return comb(row[\"m_s\"],row[\"x_s\"]) * math.exp(sc.gammaln([a + row[\"x_s\"]]) + \n                                                  sc.gammaln([b + row[\"m_s\"] - \n                                                              row[\"x_s\"]]) - \n                                                  sc.gammaln([a + b + row[\"m_s\"]]))/ldenom\n\ndef expected(row):\n    return (a + row['x_s'])/(a + b + row['m_s'])\n\ndef full_seg(row):\n    return row['m_s'] * 100",
      "metadata": {
        "trusted": true
      },
      "execution_count": 2,
      "outputs": []
    },
    {
      "cell_type": "code",
      "source": "#First read in the dataset and assign its contents to a pandas dataframe\ndf = pd.read_csv('Targeting.csv')\n\n#Takes x over m, outputs it to Test RR\ndf['Test RR'] = df['x_s']/df['m_s']\n\n#Variables for our specific problem\nmailing_cost = 2000/10000\nmargin = 100\nthreshold = mailing_cost/margin\ntotal_mailers = sum(df['m_s'])\ntotal_cost = mailing_cost * total_mailers\ntotal_sales = sum(df['x_s'])\nprofit = total_sales * margin\nprobability = .1\n\n#Initializing a and b as 1 so that they can be global variables for our program\n#and I'll update them after optimization\na = 1\nb = 1\nb_ab = math.exp(sc.gammaln([a]) + sc.gammaln([b]) - sc.gammaln([a+b]))",
      "metadata": {
        "trusted": true
      },
      "execution_count": 3,
      "outputs": [
        {
          "name": "stderr",
          "text": "<ipython-input-3-86dbde86b5cf>:21: DeprecationWarning: Conversion of an array with ndim > 0 to a scalar is deprecated, and will error in future. Ensure you extract a single element from your array before performing this operation. (Deprecated NumPy 1.25.)\n  b_ab = math.exp(sc.gammaln([a]) + sc.gammaln([b]) - sc.gammaln([a+b]))\n",
          "output_type": "stream"
        }
      ]
    },
    {
      "cell_type": "code",
      "source": "print('Threshold: ' , threshold)\nprint('Probability: ', probability)\nprint('Mailing Cost: ', mailing_cost)\nprint('Total Cost:', total_cost)\nprint('Total Sales: ', total_sales)\nprint('Profit: ', profit)",
      "metadata": {
        "trusted": true
      },
      "execution_count": 4,
      "outputs": [
        {
          "name": "stdout",
          "text": "Threshold:  0.002\nProbability:  0.1\nMailing Cost:  0.2\nTotal Cost: 2822.0\nTotal Sales:  62\nProfit:  6200\n",
          "output_type": "stream"
        }
      ]
    },
    {
      "cell_type": "code",
      "source": "df['Initial Rollout'] = df['Test RR'] > threshold",
      "metadata": {
        "trusted": true
      },
      "execution_count": 5,
      "outputs": []
    },
    {
      "cell_type": "code",
      "source": "res = optimizeBB(df)",
      "metadata": {
        "trusted": true
      },
      "execution_count": 6,
      "outputs": [
        {
          "name": "stdout",
          "text": "Optimization terminated successfully.\n         Current function value: 73.850394\n         Iterations: 104\n         Function evaluations: 223\nMLE for a,b is [  1.6131702  362.81987103] and LL is -73.85039380829467\n",
          "output_type": "stream"
        }
      ]
    },
    {
      "cell_type": "code",
      "source": "#Updating a and b before applying the betabinomial function\na = res.x[0]\nb = res.x[1]\na, b",
      "metadata": {
        "trusted": true
      },
      "execution_count": 7,
      "outputs": [
        {
          "execution_count": 7,
          "output_type": "execute_result",
          "data": {
            "text/plain": "(1.6131702049189092, 362.81987102837655)"
          },
          "metadata": {}
        }
      ]
    },
    {
      "cell_type": "code",
      "source": "#Creating column containing the probability of observing the \n#Test RR in the rest of the segment\ndf[\"P(X=x_s|m_s)\"] = df.apply(betabinomial, axis=1)",
      "metadata": {
        "trusted": true
      },
      "execution_count": 8,
      "outputs": [
        {
          "name": "stderr",
          "text": "<ipython-input-2-b635ad3835aa>:22: DeprecationWarning: Conversion of an array with ndim > 0 to a scalar is deprecated, and will error in future. Ensure you extract a single element from your array before performing this operation. (Deprecated NumPy 1.25.)\n  return comb(row[\"m_s\"],row[\"x_s\"]) * math.exp(sc.gammaln([a + row[\"x_s\"]]) +\n",
          "output_type": "stream"
        }
      ]
    },
    {
      "cell_type": "code",
      "source": "#Log Likelihood column\ndf['LL'] = np.log(df['P(X=x_s|m_s)'])",
      "metadata": {
        "trusted": true
      },
      "execution_count": 9,
      "outputs": []
    },
    {
      "cell_type": "code",
      "source": "#Maximized log likelihood\ntotal_LL = sum(df['LL'])\ntotal_LL",
      "metadata": {
        "trusted": true
      },
      "execution_count": 10,
      "outputs": [
        {
          "execution_count": 10,
          "output_type": "execute_result",
          "data": {
            "text/plain": "-73.85039380828694"
          },
          "metadata": {}
        }
      ]
    },
    {
      "cell_type": "code",
      "source": "#Average response for the whole dataset. Does not\n#account for heterogeneity\navg_r_prob = a/(a+b)\navg_r_prob",
      "metadata": {
        "trusted": true
      },
      "execution_count": 11,
      "outputs": [
        {
          "execution_count": 11,
          "output_type": "execute_result",
          "data": {
            "text/plain": "0.0044265201625508545"
          },
          "metadata": {}
        }
      ]
    },
    {
      "cell_type": "code",
      "source": "#This will end up being our denominator value for the next column\nb_ab = math.exp(sc.gammaln([a]) + sc.gammaln([b]) - sc.gammaln([a+b]))\nb_ab",
      "metadata": {
        "trusted": true
      },
      "execution_count": 12,
      "outputs": [
        {
          "name": "stderr",
          "text": "<ipython-input-12-6f744a28915c>:2: DeprecationWarning: Conversion of an array with ndim > 0 to a scalar is deprecated, and will error in future. Ensure you extract a single element from your array before performing this operation. (Deprecated NumPy 1.25.)\n  b_ab = math.exp(sc.gammaln([a]) + sc.gammaln([b]) - sc.gammaln([a+b]))\n",
          "output_type": "stream"
        },
        {
          "execution_count": 12,
          "output_type": "execute_result",
          "data": {
            "text/plain": "6.63814043373229e-05"
          },
          "metadata": {}
        }
      ]
    },
    {
      "cell_type": "code",
      "source": "#Expected probability, includes heterogeneity\ndf['E[p|x,m]'] = df.apply(expected, axis = 1)",
      "metadata": {
        "trusted": true
      },
      "execution_count": 13,
      "outputs": []
    },
    {
      "cell_type": "code",
      "source": "#Column of which segments we'll roll out to given\n#our best effort at predicting segment behavior\ndf['New Rollout'] = df['E[p|x,m]'] > threshold",
      "metadata": {
        "trusted": true
      },
      "execution_count": 14,
      "outputs": []
    },
    {
      "cell_type": "code",
      "source": "#New dataframe so as not to mutate the df dataframe\n#containing only the segments that we plan to roll\n#out to\nrslt_df = df.loc[(df['New Rollout'] == True)]",
      "metadata": {
        "trusted": true
      },
      "execution_count": 15,
      "outputs": []
    },
    {
      "cell_type": "code",
      "source": "#We only had 1% of the segment's population, so to \n#calculate how many mailers we'll be sending we need\n#to multiply that value times 100\nrslt_df['mailers'] = df.apply(full_seg, axis = 1)",
      "metadata": {
        "trusted": true
      },
      "execution_count": 16,
      "outputs": [
        {
          "name": "stderr",
          "text": "<ipython-input-16-448e8ae2b262>:4: SettingWithCopyWarning: \nA value is trying to be set on a copy of a slice from a DataFrame.\nTry using .loc[row_indexer,col_indexer] = value instead\n\nSee the caveats in the documentation: https://pandas.pydata.org/pandas-docs/stable/user_guide/indexing.html#returning-a-view-versus-a-copy\n  rslt_df['mailers'] = df.apply(full_seg, axis = 1)\n",
          "output_type": "stream"
        }
      ]
    },
    {
      "cell_type": "code",
      "source": "rslt_df",
      "metadata": {
        "trusted": true
      },
      "execution_count": 17,
      "outputs": [
        {
          "execution_count": 17,
          "output_type": "execute_result",
          "data": {
            "text/plain": "    Segment  m_s  x_s   Test RR  Initial Rollout  P(X=x_s|m_s)        LL  \\\n0         1  300    2  0.006667             True      0.163637 -1.810106   \n1         2  273    1  0.003663             True      0.280807 -1.270087   \n3         4  428    1  0.002336             True      0.248909 -1.390667   \n4         5  433    1  0.002309             True      0.247702 -1.395527   \n5         6  296    0  0.000000            False      0.382237 -0.961715   \n6         7  451    3  0.006652             True      0.117546 -2.140922   \n7         8  104    0  0.000000            False      0.666127 -0.406275   \n8         9  426    0  0.000000            False      0.285903 -1.252104   \n9        10  490    4  0.008163             True      0.080396 -2.520788   \n10       11  234    3  0.012821             True      0.068396 -2.682440   \n12       13  395    5  0.012658             True      0.038353 -3.260935   \n13       14  183    1  0.005464             True      0.280522 -1.271102   \n14       15  397    6  0.015113             True      0.022157 -3.809622   \n15       16  339    2  0.005900             True      0.169980 -1.772074   \n16       17  394    2  0.005076             True      0.174850 -1.743828   \n17       18  269    0  0.000000            False      0.408917 -0.894243   \n18       19   77    0  0.000000            False      0.733278 -0.310231   \n19       20   55    0  0.000000            False      0.796514 -0.227510   \n20       21  443    4  0.009029             True      0.073786 -2.606583   \n21       22  194    0  0.000000            False      0.501324 -0.690504   \n22       23  438    3  0.006849             True      0.115965 -2.154469   \n23       24  420    1  0.002381             True      0.250835 -1.382960   \n24       25  177    2  0.011299             True      0.119413 -2.125166   \n25       26  137    0  0.000000            False      0.596669 -0.516392   \n27       28  365    0  0.000000            False      0.325523 -1.122321   \n28       29  101    1  0.009901             True      0.236952 -1.439898   \n29       30  199    0  0.000000            False      0.494150 -0.704917   \n30       31  176    0  0.000000            False      0.528600 -0.637524   \n31       32  144    2  0.013889             True      0.099170 -2.310920   \n32       33  174    1  0.005747             True      0.278575 -1.278070   \n33       34  202    0  0.000000            False      0.489925 -0.713503   \n34       35  312    1  0.003205             True      0.274676 -1.292165   \n35       36  362    0  0.000000            False      0.327699 -1.115661   \n36       37   96    0  0.000000            False      0.684950 -0.378409   \n37       38   88    0  0.000000            False      0.704651 -0.350053   \n38       39  197    3  0.015228             True      0.054729 -2.905362   \n39       40  177    0  0.000000            False      0.527022 -0.640513   \n40       41  277    0  0.000000            False      0.400705 -0.914530   \n41       42  253    0  0.000000            False      0.426183 -0.852885   \n42       43  230    1  0.004348             True      0.284098 -1.258435   \n43       44  353    3  0.008499             True      0.101782 -2.284927   \n44       45  238    0  0.000000            False      0.443470 -0.813126   \n45       46  264    2  0.007576             True      0.155015 -1.864237   \n46       47  459    1  0.002179             True      0.241414 -1.421244   \n47       48  433    3  0.006928             True      0.115319 -2.160056   \n48       49  161    0  0.000000            False      0.553217 -0.592005   \n49       50   94    3  0.031915             True      0.014969 -4.201792   \n\n    E[p|x,m]  New Rollout  mailers  \n0   0.005438         True    30000  \n1   0.004100         True    27300  \n3   0.003298         True    42800  \n4   0.003277         True    43300  \n5   0.002443         True    29600  \n6   0.005657         True    45100  \n7   0.003444         True    10400  \n8   0.002041         True    42600  \n9   0.006569         True    49000  \n10  0.007709         True    23400  \n12  0.008708         True    39500  \n13  0.004773         True    18300  \n14  0.009998         True    39700  \n15  0.005136         True    33900  \n16  0.004764         True    39400  \n17  0.002547         True    26900  \n18  0.003654         True     7700  \n19  0.003846         True     5500  \n20  0.006952         True    44300  \n21  0.002889         True    19400  \n22  0.005749         True    43800  \n23  0.003331         True    42000  \n24  0.006673         True    17700  \n25  0.003217         True    13700  \n27  0.002212         True    36500  \n28  0.005614         True    10100  \n29  0.002863         True    19900  \n30  0.002985         True    17600  \n31  0.007106         True    14400  \n32  0.004853         True    17400  \n33  0.002848         True    20200  \n34  0.003863         True    31200  \n35  0.002221         True    36200  \n36  0.003504         True     9600  \n37  0.003566         True     8800  \n38  0.008217         True    19700  \n39  0.002979         True    17700  \n40  0.002515         True    27700  \n41  0.002613         True    25300  \n42  0.004396         True    23000  \n43  0.006430         True    35300  \n44  0.002678         True    23800  \n45  0.005749         True    26400  \n46  0.003174         True    45900  \n47  0.005785         True    43300  \n48  0.003070         True    16100  \n49  0.010063         True     9400  ",
            "text/html": "<div>\n<style scoped>\n    .dataframe tbody tr th:only-of-type {\n        vertical-align: middle;\n    }\n\n    .dataframe tbody tr th {\n        vertical-align: top;\n    }\n\n    .dataframe thead th {\n        text-align: right;\n    }\n</style>\n<table border=\"1\" class=\"dataframe\">\n  <thead>\n    <tr style=\"text-align: right;\">\n      <th></th>\n      <th>Segment</th>\n      <th>m_s</th>\n      <th>x_s</th>\n      <th>Test RR</th>\n      <th>Initial Rollout</th>\n      <th>P(X=x_s|m_s)</th>\n      <th>LL</th>\n      <th>E[p|x,m]</th>\n      <th>New Rollout</th>\n      <th>mailers</th>\n    </tr>\n  </thead>\n  <tbody>\n    <tr>\n      <th>0</th>\n      <td>1</td>\n      <td>300</td>\n      <td>2</td>\n      <td>0.006667</td>\n      <td>True</td>\n      <td>0.163637</td>\n      <td>-1.810106</td>\n      <td>0.005438</td>\n      <td>True</td>\n      <td>30000</td>\n    </tr>\n    <tr>\n      <th>1</th>\n      <td>2</td>\n      <td>273</td>\n      <td>1</td>\n      <td>0.003663</td>\n      <td>True</td>\n      <td>0.280807</td>\n      <td>-1.270087</td>\n      <td>0.004100</td>\n      <td>True</td>\n      <td>27300</td>\n    </tr>\n    <tr>\n      <th>3</th>\n      <td>4</td>\n      <td>428</td>\n      <td>1</td>\n      <td>0.002336</td>\n      <td>True</td>\n      <td>0.248909</td>\n      <td>-1.390667</td>\n      <td>0.003298</td>\n      <td>True</td>\n      <td>42800</td>\n    </tr>\n    <tr>\n      <th>4</th>\n      <td>5</td>\n      <td>433</td>\n      <td>1</td>\n      <td>0.002309</td>\n      <td>True</td>\n      <td>0.247702</td>\n      <td>-1.395527</td>\n      <td>0.003277</td>\n      <td>True</td>\n      <td>43300</td>\n    </tr>\n    <tr>\n      <th>5</th>\n      <td>6</td>\n      <td>296</td>\n      <td>0</td>\n      <td>0.000000</td>\n      <td>False</td>\n      <td>0.382237</td>\n      <td>-0.961715</td>\n      <td>0.002443</td>\n      <td>True</td>\n      <td>29600</td>\n    </tr>\n    <tr>\n      <th>6</th>\n      <td>7</td>\n      <td>451</td>\n      <td>3</td>\n      <td>0.006652</td>\n      <td>True</td>\n      <td>0.117546</td>\n      <td>-2.140922</td>\n      <td>0.005657</td>\n      <td>True</td>\n      <td>45100</td>\n    </tr>\n    <tr>\n      <th>7</th>\n      <td>8</td>\n      <td>104</td>\n      <td>0</td>\n      <td>0.000000</td>\n      <td>False</td>\n      <td>0.666127</td>\n      <td>-0.406275</td>\n      <td>0.003444</td>\n      <td>True</td>\n      <td>10400</td>\n    </tr>\n    <tr>\n      <th>8</th>\n      <td>9</td>\n      <td>426</td>\n      <td>0</td>\n      <td>0.000000</td>\n      <td>False</td>\n      <td>0.285903</td>\n      <td>-1.252104</td>\n      <td>0.002041</td>\n      <td>True</td>\n      <td>42600</td>\n    </tr>\n    <tr>\n      <th>9</th>\n      <td>10</td>\n      <td>490</td>\n      <td>4</td>\n      <td>0.008163</td>\n      <td>True</td>\n      <td>0.080396</td>\n      <td>-2.520788</td>\n      <td>0.006569</td>\n      <td>True</td>\n      <td>49000</td>\n    </tr>\n    <tr>\n      <th>10</th>\n      <td>11</td>\n      <td>234</td>\n      <td>3</td>\n      <td>0.012821</td>\n      <td>True</td>\n      <td>0.068396</td>\n      <td>-2.682440</td>\n      <td>0.007709</td>\n      <td>True</td>\n      <td>23400</td>\n    </tr>\n    <tr>\n      <th>12</th>\n      <td>13</td>\n      <td>395</td>\n      <td>5</td>\n      <td>0.012658</td>\n      <td>True</td>\n      <td>0.038353</td>\n      <td>-3.260935</td>\n      <td>0.008708</td>\n      <td>True</td>\n      <td>39500</td>\n    </tr>\n    <tr>\n      <th>13</th>\n      <td>14</td>\n      <td>183</td>\n      <td>1</td>\n      <td>0.005464</td>\n      <td>True</td>\n      <td>0.280522</td>\n      <td>-1.271102</td>\n      <td>0.004773</td>\n      <td>True</td>\n      <td>18300</td>\n    </tr>\n    <tr>\n      <th>14</th>\n      <td>15</td>\n      <td>397</td>\n      <td>6</td>\n      <td>0.015113</td>\n      <td>True</td>\n      <td>0.022157</td>\n      <td>-3.809622</td>\n      <td>0.009998</td>\n      <td>True</td>\n      <td>39700</td>\n    </tr>\n    <tr>\n      <th>15</th>\n      <td>16</td>\n      <td>339</td>\n      <td>2</td>\n      <td>0.005900</td>\n      <td>True</td>\n      <td>0.169980</td>\n      <td>-1.772074</td>\n      <td>0.005136</td>\n      <td>True</td>\n      <td>33900</td>\n    </tr>\n    <tr>\n      <th>16</th>\n      <td>17</td>\n      <td>394</td>\n      <td>2</td>\n      <td>0.005076</td>\n      <td>True</td>\n      <td>0.174850</td>\n      <td>-1.743828</td>\n      <td>0.004764</td>\n      <td>True</td>\n      <td>39400</td>\n    </tr>\n    <tr>\n      <th>17</th>\n      <td>18</td>\n      <td>269</td>\n      <td>0</td>\n      <td>0.000000</td>\n      <td>False</td>\n      <td>0.408917</td>\n      <td>-0.894243</td>\n      <td>0.002547</td>\n      <td>True</td>\n      <td>26900</td>\n    </tr>\n    <tr>\n      <th>18</th>\n      <td>19</td>\n      <td>77</td>\n      <td>0</td>\n      <td>0.000000</td>\n      <td>False</td>\n      <td>0.733278</td>\n      <td>-0.310231</td>\n      <td>0.003654</td>\n      <td>True</td>\n      <td>7700</td>\n    </tr>\n    <tr>\n      <th>19</th>\n      <td>20</td>\n      <td>55</td>\n      <td>0</td>\n      <td>0.000000</td>\n      <td>False</td>\n      <td>0.796514</td>\n      <td>-0.227510</td>\n      <td>0.003846</td>\n      <td>True</td>\n      <td>5500</td>\n    </tr>\n    <tr>\n      <th>20</th>\n      <td>21</td>\n      <td>443</td>\n      <td>4</td>\n      <td>0.009029</td>\n      <td>True</td>\n      <td>0.073786</td>\n      <td>-2.606583</td>\n      <td>0.006952</td>\n      <td>True</td>\n      <td>44300</td>\n    </tr>\n    <tr>\n      <th>21</th>\n      <td>22</td>\n      <td>194</td>\n      <td>0</td>\n      <td>0.000000</td>\n      <td>False</td>\n      <td>0.501324</td>\n      <td>-0.690504</td>\n      <td>0.002889</td>\n      <td>True</td>\n      <td>19400</td>\n    </tr>\n    <tr>\n      <th>22</th>\n      <td>23</td>\n      <td>438</td>\n      <td>3</td>\n      <td>0.006849</td>\n      <td>True</td>\n      <td>0.115965</td>\n      <td>-2.154469</td>\n      <td>0.005749</td>\n      <td>True</td>\n      <td>43800</td>\n    </tr>\n    <tr>\n      <th>23</th>\n      <td>24</td>\n      <td>420</td>\n      <td>1</td>\n      <td>0.002381</td>\n      <td>True</td>\n      <td>0.250835</td>\n      <td>-1.382960</td>\n      <td>0.003331</td>\n      <td>True</td>\n      <td>42000</td>\n    </tr>\n    <tr>\n      <th>24</th>\n      <td>25</td>\n      <td>177</td>\n      <td>2</td>\n      <td>0.011299</td>\n      <td>True</td>\n      <td>0.119413</td>\n      <td>-2.125166</td>\n      <td>0.006673</td>\n      <td>True</td>\n      <td>17700</td>\n    </tr>\n    <tr>\n      <th>25</th>\n      <td>26</td>\n      <td>137</td>\n      <td>0</td>\n      <td>0.000000</td>\n      <td>False</td>\n      <td>0.596669</td>\n      <td>-0.516392</td>\n      <td>0.003217</td>\n      <td>True</td>\n      <td>13700</td>\n    </tr>\n    <tr>\n      <th>27</th>\n      <td>28</td>\n      <td>365</td>\n      <td>0</td>\n      <td>0.000000</td>\n      <td>False</td>\n      <td>0.325523</td>\n      <td>-1.122321</td>\n      <td>0.002212</td>\n      <td>True</td>\n      <td>36500</td>\n    </tr>\n    <tr>\n      <th>28</th>\n      <td>29</td>\n      <td>101</td>\n      <td>1</td>\n      <td>0.009901</td>\n      <td>True</td>\n      <td>0.236952</td>\n      <td>-1.439898</td>\n      <td>0.005614</td>\n      <td>True</td>\n      <td>10100</td>\n    </tr>\n    <tr>\n      <th>29</th>\n      <td>30</td>\n      <td>199</td>\n      <td>0</td>\n      <td>0.000000</td>\n      <td>False</td>\n      <td>0.494150</td>\n      <td>-0.704917</td>\n      <td>0.002863</td>\n      <td>True</td>\n      <td>19900</td>\n    </tr>\n    <tr>\n      <th>30</th>\n      <td>31</td>\n      <td>176</td>\n      <td>0</td>\n      <td>0.000000</td>\n      <td>False</td>\n      <td>0.528600</td>\n      <td>-0.637524</td>\n      <td>0.002985</td>\n      <td>True</td>\n      <td>17600</td>\n    </tr>\n    <tr>\n      <th>31</th>\n      <td>32</td>\n      <td>144</td>\n      <td>2</td>\n      <td>0.013889</td>\n      <td>True</td>\n      <td>0.099170</td>\n      <td>-2.310920</td>\n      <td>0.007106</td>\n      <td>True</td>\n      <td>14400</td>\n    </tr>\n    <tr>\n      <th>32</th>\n      <td>33</td>\n      <td>174</td>\n      <td>1</td>\n      <td>0.005747</td>\n      <td>True</td>\n      <td>0.278575</td>\n      <td>-1.278070</td>\n      <td>0.004853</td>\n      <td>True</td>\n      <td>17400</td>\n    </tr>\n    <tr>\n      <th>33</th>\n      <td>34</td>\n      <td>202</td>\n      <td>0</td>\n      <td>0.000000</td>\n      <td>False</td>\n      <td>0.489925</td>\n      <td>-0.713503</td>\n      <td>0.002848</td>\n      <td>True</td>\n      <td>20200</td>\n    </tr>\n    <tr>\n      <th>34</th>\n      <td>35</td>\n      <td>312</td>\n      <td>1</td>\n      <td>0.003205</td>\n      <td>True</td>\n      <td>0.274676</td>\n      <td>-1.292165</td>\n      <td>0.003863</td>\n      <td>True</td>\n      <td>31200</td>\n    </tr>\n    <tr>\n      <th>35</th>\n      <td>36</td>\n      <td>362</td>\n      <td>0</td>\n      <td>0.000000</td>\n      <td>False</td>\n      <td>0.327699</td>\n      <td>-1.115661</td>\n      <td>0.002221</td>\n      <td>True</td>\n      <td>36200</td>\n    </tr>\n    <tr>\n      <th>36</th>\n      <td>37</td>\n      <td>96</td>\n      <td>0</td>\n      <td>0.000000</td>\n      <td>False</td>\n      <td>0.684950</td>\n      <td>-0.378409</td>\n      <td>0.003504</td>\n      <td>True</td>\n      <td>9600</td>\n    </tr>\n    <tr>\n      <th>37</th>\n      <td>38</td>\n      <td>88</td>\n      <td>0</td>\n      <td>0.000000</td>\n      <td>False</td>\n      <td>0.704651</td>\n      <td>-0.350053</td>\n      <td>0.003566</td>\n      <td>True</td>\n      <td>8800</td>\n    </tr>\n    <tr>\n      <th>38</th>\n      <td>39</td>\n      <td>197</td>\n      <td>3</td>\n      <td>0.015228</td>\n      <td>True</td>\n      <td>0.054729</td>\n      <td>-2.905362</td>\n      <td>0.008217</td>\n      <td>True</td>\n      <td>19700</td>\n    </tr>\n    <tr>\n      <th>39</th>\n      <td>40</td>\n      <td>177</td>\n      <td>0</td>\n      <td>0.000000</td>\n      <td>False</td>\n      <td>0.527022</td>\n      <td>-0.640513</td>\n      <td>0.002979</td>\n      <td>True</td>\n      <td>17700</td>\n    </tr>\n    <tr>\n      <th>40</th>\n      <td>41</td>\n      <td>277</td>\n      <td>0</td>\n      <td>0.000000</td>\n      <td>False</td>\n      <td>0.400705</td>\n      <td>-0.914530</td>\n      <td>0.002515</td>\n      <td>True</td>\n      <td>27700</td>\n    </tr>\n    <tr>\n      <th>41</th>\n      <td>42</td>\n      <td>253</td>\n      <td>0</td>\n      <td>0.000000</td>\n      <td>False</td>\n      <td>0.426183</td>\n      <td>-0.852885</td>\n      <td>0.002613</td>\n      <td>True</td>\n      <td>25300</td>\n    </tr>\n    <tr>\n      <th>42</th>\n      <td>43</td>\n      <td>230</td>\n      <td>1</td>\n      <td>0.004348</td>\n      <td>True</td>\n      <td>0.284098</td>\n      <td>-1.258435</td>\n      <td>0.004396</td>\n      <td>True</td>\n      <td>23000</td>\n    </tr>\n    <tr>\n      <th>43</th>\n      <td>44</td>\n      <td>353</td>\n      <td>3</td>\n      <td>0.008499</td>\n      <td>True</td>\n      <td>0.101782</td>\n      <td>-2.284927</td>\n      <td>0.006430</td>\n      <td>True</td>\n      <td>35300</td>\n    </tr>\n    <tr>\n      <th>44</th>\n      <td>45</td>\n      <td>238</td>\n      <td>0</td>\n      <td>0.000000</td>\n      <td>False</td>\n      <td>0.443470</td>\n      <td>-0.813126</td>\n      <td>0.002678</td>\n      <td>True</td>\n      <td>23800</td>\n    </tr>\n    <tr>\n      <th>45</th>\n      <td>46</td>\n      <td>264</td>\n      <td>2</td>\n      <td>0.007576</td>\n      <td>True</td>\n      <td>0.155015</td>\n      <td>-1.864237</td>\n      <td>0.005749</td>\n      <td>True</td>\n      <td>26400</td>\n    </tr>\n    <tr>\n      <th>46</th>\n      <td>47</td>\n      <td>459</td>\n      <td>1</td>\n      <td>0.002179</td>\n      <td>True</td>\n      <td>0.241414</td>\n      <td>-1.421244</td>\n      <td>0.003174</td>\n      <td>True</td>\n      <td>45900</td>\n    </tr>\n    <tr>\n      <th>47</th>\n      <td>48</td>\n      <td>433</td>\n      <td>3</td>\n      <td>0.006928</td>\n      <td>True</td>\n      <td>0.115319</td>\n      <td>-2.160056</td>\n      <td>0.005785</td>\n      <td>True</td>\n      <td>43300</td>\n    </tr>\n    <tr>\n      <th>48</th>\n      <td>49</td>\n      <td>161</td>\n      <td>0</td>\n      <td>0.000000</td>\n      <td>False</td>\n      <td>0.553217</td>\n      <td>-0.592005</td>\n      <td>0.003070</td>\n      <td>True</td>\n      <td>16100</td>\n    </tr>\n    <tr>\n      <th>49</th>\n      <td>50</td>\n      <td>94</td>\n      <td>3</td>\n      <td>0.031915</td>\n      <td>True</td>\n      <td>0.014969</td>\n      <td>-4.201792</td>\n      <td>0.010063</td>\n      <td>True</td>\n      <td>9400</td>\n    </tr>\n  </tbody>\n</table>\n</div>"
          },
          "metadata": {}
        }
      ]
    },
    {
      "cell_type": "code",
      "source": "total_mailers = sum(rslt_df['mailers'])\ntotal_mailers",
      "metadata": {
        "trusted": true
      },
      "execution_count": 18,
      "outputs": [
        {
          "execution_count": 18,
          "output_type": "execute_result",
          "data": {
            "text/plain": "1270800"
          },
          "metadata": {}
        }
      ]
    },
    {
      "cell_type": "code",
      "source": "total_cost = total_mailers * mailing_cost\ntotal_cost",
      "metadata": {
        "trusted": true
      },
      "execution_count": 19,
      "outputs": [
        {
          "execution_count": 19,
          "output_type": "execute_result",
          "data": {
            "text/plain": "254160.0"
          },
          "metadata": {}
        }
      ]
    }
  ]
}